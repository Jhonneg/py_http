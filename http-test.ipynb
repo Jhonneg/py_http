{
 "cells": [
  {
   "cell_type": "code",
   "execution_count": 5,
   "id": "8cc6d838",
   "metadata": {},
   "outputs": [
    {
     "data": {
      "text/markdown": [
       "The 21st century has seen numerous groundbreaking inventions and innovations that have significantly impacted society and transformed various industries. Here are some of the most important inventions of this century:\n",
       "\n",
       "1. **Smartphones**: The advent of smartphones revolutionized communication, enabling instant access to information, social media, and a wide range of applications that have changed how we work, socialize, and entertain ourselves.\n",
       "\n",
       "2. **Social Media Platforms**: Platforms like Facebook, Twitter, Instagram, and TikTok have transformed communication, marketing, and social interaction, creating new forms of community and influence.\n",
       "\n",
       "3. **Artificial Intelligence (AI)**: Advances in AI, including machine learning and natural language processing, have led to innovations in various fields such as healthcare, finance, and transportation. AI is now integral to personal assistants, autonomous vehicles, and data analysis tools.\n",
       "\n",
       "4. **3D Printing**: This technology has revolutionized manufacturing and prototyping, allowing for rapid production of complex designs, customization in various industries, and even the potential for bioprinting organs.\n",
       "\n",
       "5. **Renewable Energy Technologies**: Innovations in solar, wind, and battery storage technologies have made renewable energy more efficient and cost-effective, driving the transition towards sustainable energy sources.\n",
       "\n",
       "6. **CRISPR and Gene Editing**: The development of CRISPR-Cas9 technology has transformed genetics and biotechnology, allowing for precise editing of DNA and potential cures for genetic disorders.\n",
       "\n",
       "7. **Blockchain Technology**: Initially developed for cryptocurrencies like Bitcoin, blockchain technology has found applications in supply chain management, secure transactions, and decentralized applications.\n",
       "\n",
       "8. **Internet of Things (IoT)**: The proliferation of connected devices has enabled smarter homes, cities, and industries, allowing for better data collection, efficiency, and automation.\n",
       "\n",
       "9. **Telemedicine**: The rise of telehealth solutions has transformed healthcare delivery, making access to medical advice and treatment more convenient, especially during the COVID-19 pandemic.\n",
       "\n",
       "10. **Augmented Reality (AR) and Virtual Reality (VR)**: These technologies have changed the landscape of entertainment, education, and training, providing immersive experiences that enhance learning and engagement.\n",
       "\n",
       "11. **Electric Vehicles (EVs)**: The advancements in electric vehicle technology and the growing infrastructure for EVs have contributed to reducing carbon emissions and promoting sustainable transportation.\n",
       "\n",
       "12. **Wearable Technology**: Devices like smartwatches and fitness trackers have popularized health monitoring and personal fitness, empowering users to take charge of their health.\n",
       "\n",
       "Each of these inventions has played a significant role in shaping modern life and has the potential to influence future developments across various sectors."
      ]
     },
     "metadata": {},
     "output_type": "display_data"
    }
   ],
   "source": [
    "from curses import raw\n",
    "import os\n",
    "import requests\n",
    "from dotenv import load_dotenv\n",
    "from IPython.display import display_markdown\n",
    "\n",
    "load_dotenv()\n",
    "api_key = os.environ.get(\"OPEN_AI_SK\")\n",
    "\n",
    "url = \"https://api.openai.com/v1/chat/completions\"\n",
    "header = {\"Authorization\": f\"Bearer {api_key}\", \"Content-Type\": \"application/json\"}\n",
    "\n",
    "data = {\n",
    "    \"model\": \"gpt-4o-mini\",\n",
    "    \"messages\": [\n",
    "        {\"role\": \"system\", \"content\": \"You are a helpful assistant\"},\n",
    "        {\n",
    "            \"role\": \"user\",\n",
    "            \"content\": \"What you think are the most important inventions of the 21st century?\",\n",
    "        },\n",
    "    ],\n",
    "    \"temperature\": 0.7,\n",
    "}\n",
    "\n",
    "response = requests.post(url, headers=header, json=data)\n",
    "\n",
    "try:\n",
    "    response.raise_for_status()\n",
    "    reply = response.json()[\"choices\"][0][\"message\"][\"content\"]\n",
    "    display_markdown(reply, raw=True)\n",
    "except requests.exceptions.HTTPError as http_err:\n",
    "    print(f\"HTTP error occurred: {http_err}\")\n",
    "except Exception as e:\n",
    "    print(f\"An unexpectend error occurred: {e}\")\n"
   ]
  }
 ],
 "metadata": {
  "kernelspec": {
   "display_name": "base",
   "language": "python",
   "name": "python3"
  },
  "language_info": {
   "codemirror_mode": {
    "name": "ipython",
    "version": 3
   },
   "file_extension": ".py",
   "mimetype": "text/x-python",
   "name": "python",
   "nbconvert_exporter": "python",
   "pygments_lexer": "ipython3",
   "version": "3.12.9"
  }
 },
 "nbformat": 4,
 "nbformat_minor": 5
}
