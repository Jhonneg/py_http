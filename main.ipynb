{
 "cells": [
  {
   "cell_type": "markdown",
   "id": "aa6ae0b9",
   "metadata": {},
   "source": [
    "# Intro to Pandas: Series and DataFrames"
   ]
  },
  {
   "cell_type": "code",
   "execution_count": 7,
   "id": "271e1a91",
   "metadata": {},
   "outputs": [],
   "source": [
    "import pandas as pd\n",
    "\n",
    "data = [10, 20, 30, 40, 50]"
   ]
  }
 ],
 "metadata": {
  "kernelspec": {
   "display_name": "base",
   "language": "python",
   "name": "python3"
  },
  "language_info": {
   "codemirror_mode": {
    "name": "ipython",
    "version": 3
   },
   "file_extension": ".py",
   "mimetype": "text/x-python",
   "name": "python",
   "nbconvert_exporter": "python",
   "pygments_lexer": "ipython3",
   "version": "3.12.9"
  }
 },
 "nbformat": 4,
 "nbformat_minor": 5
}
